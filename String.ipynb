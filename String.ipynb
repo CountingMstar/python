{
 "cells": [
  {
   "cell_type": "code",
   "execution_count": 1,
   "metadata": {},
   "outputs": [
    {
     "name": "stdout",
     "output_type": "stream",
     "text": [
      "<class 'str'>\n",
      "Hello World\n",
      "Hello World\n",
      "Hello World\n"
     ]
    }
   ],
   "source": [
    "# String \n",
    "a = 'Hello World'\n",
    "b = \"Hello World\"\n",
    "c = \"\"\"Hello World\"\"\"\n",
    "\n",
    "print(type(a))\n",
    "print(a)\n",
    "print(b)\n",
    "print(c)"
   ]
  },
  {
   "cell_type": "code",
   "execution_count": 6,
   "metadata": {},
   "outputs": [
    {
     "name": "stdout",
     "output_type": "stream",
     "text": [
      "He's bike\n",
      "My favorite book is a \"Python\"\n",
      "He's bike\n",
      "My favorite book is a \"Python\"\n"
     ]
    }
   ],
   "source": [
    "# If you want to insert ' or \" in the sentence\n",
    "a = \"He's bike\"\n",
    "b = 'My favorite book is a \"Python\"'\n",
    "c = 'He\\'s bike' \n",
    "d = \"My favorite book is a \\\"Python\\\"\"\n",
    "\n",
    "print(a)\n",
    "print(b)\n",
    "print(c)\n",
    "print(d)"
   ]
  },
  {
   "cell_type": "code",
   "execution_count": 8,
   "metadata": {},
   "outputs": [
    {
     "name": "stdout",
     "output_type": "stream",
     "text": [
      "Life is too short. \n",
      " So kiss me now.\n",
      "Life is too short.\n",
      "    So kiss me now.\n"
     ]
    }
   ],
   "source": [
    "# The sentence that has multiple lines \n",
    "# Line Breaking\n",
    "a = \"Life is too short. \\n So kiss me now.\"\n",
    "b = \"\"\"Life is too short.\n",
    "    So kiss me now.\"\"\"\n",
    "\n",
    "print(a)\n",
    "print(b)"
   ]
  },
  {
   "cell_type": "code",
   "execution_count": 9,
   "metadata": {},
   "outputs": [
    {
     "name": "stdout",
     "output_type": "stream",
     "text": [
      "Life is too short. \t So kiss me now.\n"
     ]
    }
   ],
   "source": [
    "# The sentence that has multiple lines \n",
    "# Tab\n",
    "a = \"Life is too short. \\t So kiss me now.\"\n",
    "\n",
    "print(a)"
   ]
  },
  {
   "cell_type": "code",
   "execution_count": 10,
   "metadata": {},
   "outputs": [
    {
     "name": "stdout",
     "output_type": "stream",
     "text": [
      "Life is too short.\n"
     ]
    }
   ],
   "source": [
    "# Concatenation\n",
    "a = \"Life is\"\n",
    "b = \" too short.\"\n",
    "\n",
    "print(a+b)"
   ]
  },
  {
   "cell_type": "code",
   "execution_count": 13,
   "metadata": {},
   "outputs": [
    {
     "name": "stdout",
     "output_type": "stream",
     "text": [
      "Sexy Sexy Sexy \n"
     ]
    }
   ],
   "source": [
    "# Multiplication\n",
    "a = \"Sexy \"\n",
    "\n",
    "print(a*3)"
   ]
  },
  {
   "cell_type": "code",
   "execution_count": 15,
   "metadata": {},
   "outputs": [
    {
     "name": "stdout",
     "output_type": "stream",
     "text": [
      "18\n",
      "5\n"
     ]
    }
   ],
   "source": [
    "# The length of a string\n",
    "a = \"Life is too short.\"\n",
    "b = \"Life \"\n",
    "\n",
    "print(len(a))\n",
    "print(len(b))"
   ]
  },
  {
   "cell_type": "code",
   "execution_count": null,
   "metadata": {},
   "outputs": [],
   "source": [
    "# String Indexing \n"
   ]
  }
 ],
 "metadata": {
  "kernelspec": {
   "display_name": "pytorch",
   "language": "python",
   "name": "pytorch"
  },
  "language_info": {
   "codemirror_mode": {
    "name": "ipython",
    "version": 3
   },
   "file_extension": ".py",
   "mimetype": "text/x-python",
   "name": "python",
   "nbconvert_exporter": "python",
   "pygments_lexer": "ipython3",
   "version": "3.7.13"
  }
 },
 "nbformat": 4,
 "nbformat_minor": 4
}
